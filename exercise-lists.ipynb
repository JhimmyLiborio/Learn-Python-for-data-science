{
 "cells": [
  {
   "cell_type": "markdown",
   "id": "b76eb615",
   "metadata": {
    "papermill": {
     "duration": 0.019078,
     "end_time": "2022-01-29T21:19:19.285417",
     "exception": false,
     "start_time": "2022-01-29T21:19:19.266339",
     "status": "completed"
    },
    "tags": []
   },
   "source": [
    "**This notebook is an exercise in the [Python](https://www.kaggle.com/learn/python) course.  You can reference the tutorial at [this link](https://www.kaggle.com/colinmorris/lists).**\n",
    "\n",
    "---\n"
   ]
  },
  {
   "cell_type": "markdown",
   "id": "7ba38c9a",
   "metadata": {
    "papermill": {
     "duration": 0.016621,
     "end_time": "2022-01-29T21:19:19.318096",
     "exception": false,
     "start_time": "2022-01-29T21:19:19.301475",
     "status": "completed"
    },
    "tags": []
   },
   "source": [
    "Things get more interesting with lists. You'll apply your new knowledge to solve the questions below. Remember to run the following cell first."
   ]
  },
  {
   "cell_type": "code",
   "execution_count": 1,
   "id": "c282f1ba",
   "metadata": {
    "execution": {
     "iopub.execute_input": "2022-01-29T21:19:19.365104Z",
     "iopub.status.busy": "2022-01-29T21:19:19.362804Z",
     "iopub.status.idle": "2022-01-29T21:19:19.408596Z",
     "shell.execute_reply": "2022-01-29T21:19:19.409334Z",
     "shell.execute_reply.started": "2022-01-29T21:17:19.353265Z"
    },
    "papermill": {
     "duration": 0.070256,
     "end_time": "2022-01-29T21:19:19.409697",
     "exception": false,
     "start_time": "2022-01-29T21:19:19.339441",
     "status": "completed"
    },
    "tags": []
   },
   "outputs": [
    {
     "name": "stdout",
     "output_type": "stream",
     "text": [
      "Setup complete.\n"
     ]
    }
   ],
   "source": [
    "from learntools.core import binder; binder.bind(globals())\n",
    "from learntools.python.ex4 import *\n",
    "print('Setup complete.')"
   ]
  },
  {
   "cell_type": "markdown",
   "id": "2501826c",
   "metadata": {
    "papermill": {
     "duration": 0.014349,
     "end_time": "2022-01-29T21:19:19.440656",
     "exception": false,
     "start_time": "2022-01-29T21:19:19.426307",
     "status": "completed"
    },
    "tags": []
   },
   "source": [
    "# 1.\n",
    "\n",
    "Complete the function below according to its docstring."
   ]
  },
  {
   "cell_type": "code",
   "execution_count": 2,
   "id": "7b4e83a3",
   "metadata": {
    "execution": {
     "iopub.execute_input": "2022-01-29T21:19:19.472879Z",
     "iopub.status.busy": "2022-01-29T21:19:19.472236Z",
     "iopub.status.idle": "2022-01-29T21:19:19.485061Z",
     "shell.execute_reply": "2022-01-29T21:19:19.484422Z",
     "shell.execute_reply.started": "2022-01-29T21:17:19.362661Z"
    },
    "papermill": {
     "duration": 0.029979,
     "end_time": "2022-01-29T21:19:19.485198",
     "exception": false,
     "start_time": "2022-01-29T21:19:19.455219",
     "status": "completed"
    },
    "tags": []
   },
   "outputs": [
    {
     "name": "stdout",
     "output_type": "stream",
     "text": [
      "2\n"
     ]
    },
    {
     "data": {
      "application/javascript": [
       "parent.postMessage({\"jupyterEvent\": \"custom.exercise_interaction\", \"data\": {\"outcomeType\": 1, \"valueTowardsCompletion\": 0.2, \"interactionType\": 1, \"questionType\": 2, \"questionId\": \"1_SelectSecondItem\", \"learnToolsVersion\": \"0.3.4\", \"failureMessage\": \"\", \"exceptionClass\": \"\", \"trace\": \"\"}}, \"*\")"
      ],
      "text/plain": [
       "<IPython.core.display.Javascript object>"
      ]
     },
     "metadata": {},
     "output_type": "display_data"
    },
    {
     "data": {
      "text/markdown": [
       "<span style=\"color:#33cc33\">Correct</span>"
      ],
      "text/plain": [
       "Correct"
      ]
     },
     "metadata": {},
     "output_type": "display_data"
    }
   ],
   "source": [
    "def select_second(L):\n",
    "    \"\"\"Return the second element of the given list. If the list has no second\n",
    "    element, return None.\n",
    "    \"\"\"\n",
    "    pass\n",
    "    second = 2\n",
    "\n",
    "    if len(L) >= second:\n",
    "        # list start with index zero\n",
    "        return L[second -1]\n",
    "\n",
    "list = [1, 2, 3, 4, 5]\n",
    "print(select_second(list))\n",
    "\n",
    "# Check your answer\n",
    "q1.check()"
   ]
  },
  {
   "cell_type": "code",
   "execution_count": 3,
   "id": "18614e88",
   "metadata": {
    "execution": {
     "iopub.execute_input": "2022-01-29T21:19:19.521825Z",
     "iopub.status.busy": "2022-01-29T21:19:19.521197Z",
     "iopub.status.idle": "2022-01-29T21:19:19.522728Z",
     "shell.execute_reply": "2022-01-29T21:19:19.523255Z",
     "shell.execute_reply.started": "2022-01-29T21:17:19.381506Z"
    },
    "papermill": {
     "duration": 0.022125,
     "end_time": "2022-01-29T21:19:19.523435",
     "exception": false,
     "start_time": "2022-01-29T21:19:19.501310",
     "status": "completed"
    },
    "tags": []
   },
   "outputs": [],
   "source": [
    "#q1.hint()\n",
    "#q1.solution()"
   ]
  },
  {
   "cell_type": "markdown",
   "id": "556d6b35",
   "metadata": {
    "papermill": {
     "duration": 0.015916,
     "end_time": "2022-01-29T21:19:19.555282",
     "exception": false,
     "start_time": "2022-01-29T21:19:19.539366",
     "status": "completed"
    },
    "tags": []
   },
   "source": [
    "# 2.\n",
    "\n",
    "You are analyzing sports teams.  Members of each team are stored in a list. The Coach is the first name in the list, the captain is the second name in the list, and other players are listed after that. \n",
    "These lists are stored in another list, which starts with the best team and proceeds through the list to the worst team last.  Complete the function below to select the **captain** of the worst team."
   ]
  },
  {
   "cell_type": "code",
   "execution_count": 4,
   "id": "d1878eed",
   "metadata": {
    "execution": {
     "iopub.execute_input": "2022-01-29T21:19:19.590642Z",
     "iopub.status.busy": "2022-01-29T21:19:19.589991Z",
     "iopub.status.idle": "2022-01-29T21:19:19.601181Z",
     "shell.execute_reply": "2022-01-29T21:19:19.601699Z",
     "shell.execute_reply.started": "2022-01-29T21:17:19.395074Z"
    },
    "papermill": {
     "duration": 0.03051,
     "end_time": "2022-01-29T21:19:19.601890",
     "exception": false,
     "start_time": "2022-01-29T21:19:19.571380",
     "status": "completed"
    },
    "tags": []
   },
   "outputs": [
    {
     "name": "stdout",
     "output_type": "stream",
     "text": [
      "geromel\n"
     ]
    },
    {
     "data": {
      "application/javascript": [
       "parent.postMessage({\"jupyterEvent\": \"custom.exercise_interaction\", \"data\": {\"outcomeType\": 1, \"valueTowardsCompletion\": 0.2, \"interactionType\": 1, \"questionType\": 2, \"questionId\": \"2_LosingTeamCaptain\", \"learnToolsVersion\": \"0.3.4\", \"failureMessage\": \"\", \"exceptionClass\": \"\", \"trace\": \"\"}}, \"*\")"
      ],
      "text/plain": [
       "<IPython.core.display.Javascript object>"
      ]
     },
     "metadata": {},
     "output_type": "display_data"
    },
    {
     "data": {
      "text/markdown": [
       "<span style=\"color:#33cc33\">Correct</span>"
      ],
      "text/plain": [
       "Correct"
      ]
     },
     "metadata": {},
     "output_type": "display_data"
    }
   ],
   "source": [
    "def losing_team_captain(teams):\n",
    "    \"\"\"Given a list of teams, where each team is a list of names, return the 2nd player (captain)\n",
    "    from the last listed team\n",
    "    \"\"\"\n",
    "    pass\n",
    "    # the elements of a list start with index 0\n",
    "    captain_sequence = 2 -1 \n",
    "    # can access the team list from end to beginning with negative index  -1 -2 -3 ...\n",
    "    return teams[-1][captain_sequence]\n",
    "\n",
    "\n",
    "team_flamengo  =['jorge jesus', 'diego', 'ewerton ribeiro', 'arrascaeta', 'gabigol', 'pedro']\n",
    "team_palmeiras =['abel ferreira', 'felipe melo', 'rony', 'rafael veiga', 'dudu', 'ewerton'] \n",
    "team_gremio    =['vagner mancini', 'geromel', 'kanneman', 'douglas costa', 'diego souza']\n",
    "\n",
    "list_teams = []\n",
    "list_teams = team_palmeiras, team_flamengo, team_gremio\n",
    "\n",
    "print(losing_team_captain(list_teams))\n",
    "\n",
    "\n",
    "# Check your answer\n",
    "q2.check()"
   ]
  },
  {
   "cell_type": "code",
   "execution_count": 5,
   "id": "eb08041e",
   "metadata": {
    "execution": {
     "iopub.execute_input": "2022-01-29T21:19:19.640262Z",
     "iopub.status.busy": "2022-01-29T21:19:19.639632Z",
     "iopub.status.idle": "2022-01-29T21:19:19.643556Z",
     "shell.execute_reply": "2022-01-29T21:19:19.643003Z",
     "shell.execute_reply.started": "2022-01-29T21:17:19.414991Z"
    },
    "papermill": {
     "duration": 0.024396,
     "end_time": "2022-01-29T21:19:19.643697",
     "exception": false,
     "start_time": "2022-01-29T21:19:19.619301",
     "status": "completed"
    },
    "tags": []
   },
   "outputs": [],
   "source": [
    "#q2.hint()\n",
    "#q2.solution()"
   ]
  },
  {
   "cell_type": "markdown",
   "id": "bb19cd57",
   "metadata": {
    "papermill": {
     "duration": 0.017162,
     "end_time": "2022-01-29T21:19:19.678311",
     "exception": false,
     "start_time": "2022-01-29T21:19:19.661149",
     "status": "completed"
    },
    "tags": []
   },
   "source": [
    "# 3.\n",
    "\n",
    "The next iteration of Mario Kart will feature an extra-infuriating new item, the *Purple Shell*. When used, it warps the last place racer into first place and the first place racer into last place. Complete the function below to implement the Purple Shell's effect."
   ]
  },
  {
   "cell_type": "code",
   "execution_count": 6,
   "id": "ce3a72bd",
   "metadata": {
    "execution": {
     "iopub.execute_input": "2022-01-29T21:19:19.720647Z",
     "iopub.status.busy": "2022-01-29T21:19:19.720025Z",
     "iopub.status.idle": "2022-01-29T21:19:19.726173Z",
     "shell.execute_reply": "2022-01-29T21:19:19.726605Z",
     "shell.execute_reply.started": "2022-01-29T21:17:19.426161Z"
    },
    "papermill": {
     "duration": 0.030978,
     "end_time": "2022-01-29T21:19:19.726771",
     "exception": false,
     "start_time": "2022-01-29T21:19:19.695793",
     "status": "completed"
    },
    "tags": []
   },
   "outputs": [
    {
     "name": "stdout",
     "output_type": "stream",
     "text": [
      "['Mirella', 'Jhimmy', 'Luigi', 'Mario']\n",
      "['L', 'M']\n",
      "['J', 'L', 'M']\n",
      "[5, 2, 3, 4, 1]\n"
     ]
    },
    {
     "data": {
      "application/javascript": [
       "parent.postMessage({\"jupyterEvent\": \"custom.exercise_interaction\", \"data\": {\"outcomeType\": 1, \"valueTowardsCompletion\": 0.2, \"interactionType\": 1, \"questionType\": 2, \"questionId\": \"3_PurpleShell\", \"learnToolsVersion\": \"0.3.4\", \"failureMessage\": \"\", \"exceptionClass\": \"\", \"trace\": \"\"}}, \"*\")"
      ],
      "text/plain": [
       "<IPython.core.display.Javascript object>"
      ]
     },
     "metadata": {},
     "output_type": "display_data"
    },
    {
     "data": {
      "text/markdown": [
       "<span style=\"color:#33cc33\">Correct</span>"
      ],
      "text/plain": [
       "Correct"
      ]
     },
     "metadata": {},
     "output_type": "display_data"
    }
   ],
   "source": [
    "def purple_shell(racers):\n",
    "    \"\"\"Given a list of racers, set the first place racer (at the front of the list) to last\n",
    "    place and vice versa.\n",
    "    \n",
    "    >>> r = [\"Mario\", \"Bowser\", \"Luigi\"]\n",
    "    >>> purple_shell(r)\n",
    "    >>> r\n",
    "    [\"Luigi\", \"Bowser\", \"Mario\"]\n",
    "    \"\"\"\n",
    "    pass\n",
    "    racers[0], racers[-1] = racers[-1], racers[0]\n",
    "    print(racers)\n",
    "\n",
    "racers = ['Mario', 'Jhimmy', 'Luigi', 'Mirella']\n",
    "purple_shell(racers)\n",
    "\n",
    "# Check your answer\n",
    "q3.check()"
   ]
  },
  {
   "cell_type": "code",
   "execution_count": 7,
   "id": "bae57f8a",
   "metadata": {
    "execution": {
     "iopub.execute_input": "2022-01-29T21:19:19.769204Z",
     "iopub.status.busy": "2022-01-29T21:19:19.768549Z",
     "iopub.status.idle": "2022-01-29T21:19:19.771596Z",
     "shell.execute_reply": "2022-01-29T21:19:19.770994Z",
     "shell.execute_reply.started": "2022-01-29T21:17:19.453481Z"
    },
    "papermill": {
     "duration": 0.026057,
     "end_time": "2022-01-29T21:19:19.771729",
     "exception": false,
     "start_time": "2022-01-29T21:19:19.745672",
     "status": "completed"
    },
    "tags": []
   },
   "outputs": [],
   "source": [
    "#q3.hint()\n",
    "#q3.solution()"
   ]
  },
  {
   "cell_type": "markdown",
   "id": "fc2f4df7",
   "metadata": {
    "papermill": {
     "duration": 0.018528,
     "end_time": "2022-01-29T21:19:19.809023",
     "exception": false,
     "start_time": "2022-01-29T21:19:19.790495",
     "status": "completed"
    },
    "tags": []
   },
   "source": [
    "# 4.\n",
    "\n",
    "What are the lengths of the following lists? Fill in the variable `lengths` with your predictions. (Try to make a prediction for each list *without* just calling `len()` on it.)"
   ]
  },
  {
   "cell_type": "code",
   "execution_count": 8,
   "id": "e9bb35ee",
   "metadata": {
    "execution": {
     "iopub.execute_input": "2022-01-29T21:19:19.852947Z",
     "iopub.status.busy": "2022-01-29T21:19:19.849467Z",
     "iopub.status.idle": "2022-01-29T21:19:19.856598Z",
     "shell.execute_reply": "2022-01-29T21:19:19.857238Z",
     "shell.execute_reply.started": "2022-01-29T21:17:19.461833Z"
    },
    "papermill": {
     "duration": 0.029292,
     "end_time": "2022-01-29T21:19:19.857409",
     "exception": false,
     "start_time": "2022-01-29T21:19:19.828117",
     "status": "completed"
    },
    "tags": []
   },
   "outputs": [
    {
     "data": {
      "application/javascript": [
       "parent.postMessage({\"jupyterEvent\": \"custom.exercise_interaction\", \"data\": {\"outcomeType\": 1, \"valueTowardsCompletion\": 0.2, \"interactionType\": 1, \"questionType\": 1, \"questionId\": \"4_UnderstandLen\", \"learnToolsVersion\": \"0.3.4\", \"failureMessage\": \"\", \"exceptionClass\": \"\", \"trace\": \"\"}}, \"*\")"
      ],
      "text/plain": [
       "<IPython.core.display.Javascript object>"
      ]
     },
     "metadata": {},
     "output_type": "display_data"
    },
    {
     "data": {
      "text/markdown": [
       "<span style=\"color:#33cc33\">Correct:</span> \n",
       "\n",
       "\n",
       "- a: There are three items in this list. Nothing tricky yet.\n",
       "- b: The list `[2, 3]` counts as a single item. It has one item before it. So we have 2 items in the list\n",
       "- c: The empty list has 0 items\n",
       "- d: The expression is the same as the list `[2, 3]`, which has length 2."
      ],
      "text/plain": [
       "Correct: \n",
       "\n",
       "\n",
       "- a: There are three items in this list. Nothing tricky yet.\n",
       "- b: The list `[2, 3]` counts as a single item. It has one item before it. So we have 2 items in the list\n",
       "- c: The empty list has 0 items\n",
       "- d: The expression is the same as the list `[2, 3]`, which has length 2."
      ]
     },
     "metadata": {},
     "output_type": "display_data"
    }
   ],
   "source": [
    "a = [1, 2, 3]\n",
    "b = [1, [2, 3]]\n",
    "c = []\n",
    "d = [1, 2, 3][1:]\n",
    "\n",
    "# Put your predictions in the list below. Lengths should contain 4 numbers, the\n",
    "# first being the length of a, the second being the length of b and so on.\n",
    "lengths = [3, 2, 0, 2]\n",
    "\n",
    "# Check your answer\n",
    "q4.check()"
   ]
  },
  {
   "cell_type": "code",
   "execution_count": 9,
   "id": "f50c5cf9",
   "metadata": {
    "execution": {
     "iopub.execute_input": "2022-01-29T21:19:19.901628Z",
     "iopub.status.busy": "2022-01-29T21:19:19.900947Z",
     "iopub.status.idle": "2022-01-29T21:19:19.903111Z",
     "shell.execute_reply": "2022-01-29T21:19:19.903695Z",
     "shell.execute_reply.started": "2022-01-29T21:17:19.482349Z"
    },
    "papermill": {
     "duration": 0.026457,
     "end_time": "2022-01-29T21:19:19.903855",
     "exception": false,
     "start_time": "2022-01-29T21:19:19.877398",
     "status": "completed"
    },
    "tags": []
   },
   "outputs": [],
   "source": [
    "# line below provides some explanation\n",
    "#q4.solution()"
   ]
  },
  {
   "cell_type": "markdown",
   "id": "a6cd89f4",
   "metadata": {
    "papermill": {
     "duration": 0.020256,
     "end_time": "2022-01-29T21:19:19.943781",
     "exception": false,
     "start_time": "2022-01-29T21:19:19.923525",
     "status": "completed"
    },
    "tags": []
   },
   "source": [
    "# 5. <span title=\"A bit spicy\" style=\"color: darkgreen \">🌶️</span>\n",
    "\n",
    "We're using lists to record people who attended our party and what order they arrived in. For example, the following list represents a party with 7 guests, in which Adela showed up first and Ford was the last to arrive:\n",
    "\n",
    "    party_attendees = ['Adela', 'Fleda', 'Owen', 'May', 'Mona', 'Gilbert', 'Ford']\n",
    "\n",
    "A guest is considered 'fashionably late' if they arrived after at least half of the party's guests. However, they must not be the very last guest (that's taking it too far). In the above example, Mona and Gilbert are the only guests who were fashionably late.\n",
    "\n",
    "Complete the function below which takes a list of party attendees as well as a person, and tells us whether that person is fashionably late."
   ]
  },
  {
   "cell_type": "code",
   "execution_count": 10,
   "id": "a0225f20",
   "metadata": {
    "execution": {
     "iopub.execute_input": "2022-01-29T21:19:19.986675Z",
     "iopub.status.busy": "2022-01-29T21:19:19.986069Z",
     "iopub.status.idle": "2022-01-29T21:19:19.997271Z",
     "shell.execute_reply": "2022-01-29T21:19:19.997802Z",
     "shell.execute_reply.started": "2022-01-29T21:17:19.491892Z"
    },
    "papermill": {
     "duration": 0.034315,
     "end_time": "2022-01-29T21:19:19.998014",
     "exception": false,
     "start_time": "2022-01-29T21:19:19.963699",
     "status": "completed"
    },
    "tags": []
   },
   "outputs": [
    {
     "name": "stdout",
     "output_type": "stream",
     "text": [
      "True\n"
     ]
    },
    {
     "data": {
      "application/javascript": [
       "parent.postMessage({\"jupyterEvent\": \"custom.exercise_interaction\", \"data\": {\"outcomeType\": 1, \"valueTowardsCompletion\": 0.2, \"interactionType\": 1, \"questionType\": 2, \"questionId\": \"5_FashionablyLate\", \"learnToolsVersion\": \"0.3.4\", \"failureMessage\": \"\", \"exceptionClass\": \"\", \"trace\": \"\"}}, \"*\")"
      ],
      "text/plain": [
       "<IPython.core.display.Javascript object>"
      ]
     },
     "metadata": {},
     "output_type": "display_data"
    },
    {
     "data": {
      "text/markdown": [
       "<span style=\"color:#33cc33\">Correct</span>"
      ],
      "text/plain": [
       "Correct"
      ]
     },
     "metadata": {},
     "output_type": "display_data"
    }
   ],
   "source": [
    "def fashionably_late(arrivals, name):\n",
    "    \"\"\"Given an ordered list of arrivals to the party and a name, return whether the guest with that\n",
    "    name was fashionably late.\n",
    "    \"\"\"\n",
    "    # check if element is present in list\n",
    "    if name in arrivals:\n",
    "        # index list start with 0\n",
    "        total_guest = len(arrivals)-1\n",
    "        half_guest  = total_guest // 2\n",
    "    \n",
    "        position    = arrivals.index(name)\n",
    "        if position > half_guest and position <= (total_guest - 1): \n",
    "            return True\n",
    "        else:\n",
    "            return False\n",
    "        \n",
    "\n",
    "arrivals = ['joel', 'mirella','larissa', 'cicero', 'lucas', 'kleider', 'herlen', 'claudio']\n",
    "name = 'lucas'\n",
    "\n",
    "print(fashionably_late(arrivals, name))\n",
    "\n",
    "# Check your answer\n",
    "q5.check()"
   ]
  },
  {
   "cell_type": "code",
   "execution_count": 11,
   "id": "42875119",
   "metadata": {
    "execution": {
     "iopub.execute_input": "2022-01-29T21:19:20.045945Z",
     "iopub.status.busy": "2022-01-29T21:19:20.045285Z",
     "iopub.status.idle": "2022-01-29T21:19:20.046886Z",
     "shell.execute_reply": "2022-01-29T21:19:20.047496Z",
     "shell.execute_reply.started": "2022-01-29T21:17:19.511475Z"
    },
    "papermill": {
     "duration": 0.026915,
     "end_time": "2022-01-29T21:19:20.047663",
     "exception": false,
     "start_time": "2022-01-29T21:19:20.020748",
     "status": "completed"
    },
    "tags": []
   },
   "outputs": [],
   "source": [
    "#q5.hint()\n",
    "#q5.solution()"
   ]
  },
  {
   "cell_type": "markdown",
   "id": "f9631282",
   "metadata": {
    "papermill": {
     "duration": 0.020516,
     "end_time": "2022-01-29T21:19:20.089189",
     "exception": false,
     "start_time": "2022-01-29T21:19:20.068673",
     "status": "completed"
    },
    "tags": []
   },
   "source": [
    "# Keep Going\n",
    "\n",
    "That's it for lists and tuples! Now you have the baseline knowledge to **[learn about loops](https://www.kaggle.com/colinmorris/loops-and-list-comprehensions)**, which is where lists and tuples get really interesting. "
   ]
  },
  {
   "cell_type": "markdown",
   "id": "aa20b137",
   "metadata": {
    "papermill": {
     "duration": 0.020462,
     "end_time": "2022-01-29T21:19:20.130755",
     "exception": false,
     "start_time": "2022-01-29T21:19:20.110293",
     "status": "completed"
    },
    "tags": []
   },
   "source": [
    "---\n",
    "\n",
    "\n",
    "\n",
    "\n",
    "*Have questions or comments? Visit the [course discussion forum](https://www.kaggle.com/learn/python/discussion) to chat with other learners.*"
   ]
  }
 ],
 "metadata": {
  "kernelspec": {
   "display_name": "Python 3",
   "language": "python",
   "name": "python3"
  },
  "language_info": {
   "codemirror_mode": {
    "name": "ipython",
    "version": 3
   },
   "file_extension": ".py",
   "mimetype": "text/x-python",
   "name": "python",
   "nbconvert_exporter": "python",
   "pygments_lexer": "ipython3",
   "version": "3.7.12"
  },
  "papermill": {
   "default_parameters": {},
   "duration": 11.043169,
   "end_time": "2022-01-29T21:19:20.761438",
   "environment_variables": {},
   "exception": null,
   "input_path": "__notebook__.ipynb",
   "output_path": "__notebook__.ipynb",
   "parameters": {},
   "start_time": "2022-01-29T21:19:09.718269",
   "version": "2.3.3"
  }
 },
 "nbformat": 4,
 "nbformat_minor": 5
}
